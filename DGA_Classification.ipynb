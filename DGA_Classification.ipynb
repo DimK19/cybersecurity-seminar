{
  "nbformat": 4,
  "nbformat_minor": 0,
  "metadata": {
    "colab": {
      "provenance": []
    },
    "kernelspec": {
      "name": "python3",
      "display_name": "Python 3"
    },
    "widgets": {
      "application/vnd.jupyter.widget-state+json": {
        "b64454adc2c74177b284c2f681b8d5d7": {
          "model_module": "@jupyter-widgets/controls",
          "model_name": "VBoxModel",
          "model_module_version": "1.5.0",
          "state": {
            "_dom_classes": [
              "widget-interact"
            ],
            "_model_module": "@jupyter-widgets/controls",
            "_model_module_version": "1.5.0",
            "_model_name": "VBoxModel",
            "_view_count": null,
            "_view_module": "@jupyter-widgets/controls",
            "_view_module_version": "1.5.0",
            "_view_name": "VBoxView",
            "box_style": "",
            "children": [
              "IPY_MODEL_8b0351d52e5d433baccf902acade161c",
              "IPY_MODEL_6f9bf1f650934503aa81433b0702a3cd"
            ],
            "layout": "IPY_MODEL_5ecef2c878a74da585dd00def4df732d"
          }
        },
        "8b0351d52e5d433baccf902acade161c": {
          "model_module": "@jupyter-widgets/controls",
          "model_name": "ToggleButtonsModel",
          "model_module_version": "1.5.0",
          "state": {
            "_dom_classes": [],
            "_model_module": "@jupyter-widgets/controls",
            "_model_module_version": "1.5.0",
            "_model_name": "ToggleButtonsModel",
            "_options_labels": [
              "Pipeline Plot",
              "Hyperparameters",
              "AUC",
              "Confusion Matrix",
              "Threshold",
              "Precision Recall",
              "Prediction Error",
              "Class Report",
              "Feature Selection",
              "Learning Curve",
              "Manifold Learning",
              "Calibration Curve",
              "Validation Curve",
              "Dimensions",
              "Feature Importance",
              "Feature Importance (All)",
              "Decision Boundary",
              "Lift Chart",
              "Gain Chart",
              "Decision Tree",
              "KS Statistic Plot"
            ],
            "_view_count": null,
            "_view_module": "@jupyter-widgets/controls",
            "_view_module_version": "1.5.0",
            "_view_name": "ToggleButtonsView",
            "button_style": "",
            "description": "Plot Type:",
            "description_tooltip": null,
            "disabled": false,
            "icons": [
              ""
            ],
            "index": 3,
            "layout": "IPY_MODEL_2f4c1bf54e6c49e6bc77c600c313c109",
            "style": "IPY_MODEL_bc0f1bbb078c4565a51d7d5f3c5becf3",
            "tooltips": []
          }
        },
        "6f9bf1f650934503aa81433b0702a3cd": {
          "model_module": "@jupyter-widgets/output",
          "model_name": "OutputModel",
          "model_module_version": "1.0.0",
          "state": {
            "_dom_classes": [],
            "_model_module": "@jupyter-widgets/output",
            "_model_module_version": "1.0.0",
            "_model_name": "OutputModel",
            "_view_count": null,
            "_view_module": "@jupyter-widgets/output",
            "_view_module_version": "1.0.0",
            "_view_name": "OutputView",
            "layout": "IPY_MODEL_491341538eed4540acd10330ca236975",
            "msg_id": "",
            "outputs": [
              {
                "output_type": "display_data",
                "data": {
                  "text/plain": "<Figure size 800x550 with 1 Axes>",
                  "image/png": "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\n"
                },
                "metadata": {}
              }
            ]
          }
        },
        "5ecef2c878a74da585dd00def4df732d": {
          "model_module": "@jupyter-widgets/base",
          "model_name": "LayoutModel",
          "model_module_version": "1.2.0",
          "state": {
            "_model_module": "@jupyter-widgets/base",
            "_model_module_version": "1.2.0",
            "_model_name": "LayoutModel",
            "_view_count": null,
            "_view_module": "@jupyter-widgets/base",
            "_view_module_version": "1.2.0",
            "_view_name": "LayoutView",
            "align_content": null,
            "align_items": null,
            "align_self": null,
            "border": null,
            "bottom": null,
            "display": null,
            "flex": null,
            "flex_flow": null,
            "grid_area": null,
            "grid_auto_columns": null,
            "grid_auto_flow": null,
            "grid_auto_rows": null,
            "grid_column": null,
            "grid_gap": null,
            "grid_row": null,
            "grid_template_areas": null,
            "grid_template_columns": null,
            "grid_template_rows": null,
            "height": null,
            "justify_content": null,
            "justify_items": null,
            "left": null,
            "margin": null,
            "max_height": null,
            "max_width": null,
            "min_height": null,
            "min_width": null,
            "object_fit": null,
            "object_position": null,
            "order": null,
            "overflow": null,
            "overflow_x": null,
            "overflow_y": null,
            "padding": null,
            "right": null,
            "top": null,
            "visibility": null,
            "width": null
          }
        },
        "2f4c1bf54e6c49e6bc77c600c313c109": {
          "model_module": "@jupyter-widgets/base",
          "model_name": "LayoutModel",
          "model_module_version": "1.2.0",
          "state": {
            "_model_module": "@jupyter-widgets/base",
            "_model_module_version": "1.2.0",
            "_model_name": "LayoutModel",
            "_view_count": null,
            "_view_module": "@jupyter-widgets/base",
            "_view_module_version": "1.2.0",
            "_view_name": "LayoutView",
            "align_content": null,
            "align_items": null,
            "align_self": null,
            "border": null,
            "bottom": null,
            "display": null,
            "flex": null,
            "flex_flow": null,
            "grid_area": null,
            "grid_auto_columns": null,
            "grid_auto_flow": null,
            "grid_auto_rows": null,
            "grid_column": null,
            "grid_gap": null,
            "grid_row": null,
            "grid_template_areas": null,
            "grid_template_columns": null,
            "grid_template_rows": null,
            "height": null,
            "justify_content": null,
            "justify_items": null,
            "left": null,
            "margin": null,
            "max_height": null,
            "max_width": null,
            "min_height": null,
            "min_width": null,
            "object_fit": null,
            "object_position": null,
            "order": null,
            "overflow": null,
            "overflow_x": null,
            "overflow_y": null,
            "padding": null,
            "right": null,
            "top": null,
            "visibility": null,
            "width": null
          }
        },
        "bc0f1bbb078c4565a51d7d5f3c5becf3": {
          "model_module": "@jupyter-widgets/controls",
          "model_name": "ToggleButtonsStyleModel",
          "model_module_version": "1.5.0",
          "state": {
            "_model_module": "@jupyter-widgets/controls",
            "_model_module_version": "1.5.0",
            "_model_name": "ToggleButtonsStyleModel",
            "_view_count": null,
            "_view_module": "@jupyter-widgets/base",
            "_view_module_version": "1.2.0",
            "_view_name": "StyleView",
            "button_width": "",
            "description_width": "",
            "font_weight": ""
          }
        },
        "491341538eed4540acd10330ca236975": {
          "model_module": "@jupyter-widgets/base",
          "model_name": "LayoutModel",
          "model_module_version": "1.2.0",
          "state": {
            "_model_module": "@jupyter-widgets/base",
            "_model_module_version": "1.2.0",
            "_model_name": "LayoutModel",
            "_view_count": null,
            "_view_module": "@jupyter-widgets/base",
            "_view_module_version": "1.2.0",
            "_view_name": "LayoutView",
            "align_content": null,
            "align_items": null,
            "align_self": null,
            "border": null,
            "bottom": null,
            "display": null,
            "flex": null,
            "flex_flow": null,
            "grid_area": null,
            "grid_auto_columns": null,
            "grid_auto_flow": null,
            "grid_auto_rows": null,
            "grid_column": null,
            "grid_gap": null,
            "grid_row": null,
            "grid_template_areas": null,
            "grid_template_columns": null,
            "grid_template_rows": null,
            "height": null,
            "justify_content": null,
            "justify_items": null,
            "left": null,
            "margin": null,
            "max_height": null,
            "max_width": null,
            "min_height": null,
            "min_width": null,
            "object_fit": null,
            "object_position": null,
            "order": null,
            "overflow": null,
            "overflow_x": null,
            "overflow_y": null,
            "padding": null,
            "right": null,
            "top": null,
            "visibility": null,
            "width": null
          }
        },
        "81c56e709adc458f94728d57db521db9": {
          "model_module": "@jupyter-widgets/controls",
          "model_name": "VBoxModel",
          "model_module_version": "1.5.0",
          "state": {
            "_dom_classes": [
              "widget-interact"
            ],
            "_model_module": "@jupyter-widgets/controls",
            "_model_module_version": "1.5.0",
            "_model_name": "VBoxModel",
            "_view_count": null,
            "_view_module": "@jupyter-widgets/controls",
            "_view_module_version": "1.5.0",
            "_view_name": "VBoxView",
            "box_style": "",
            "children": [
              "IPY_MODEL_18d737a176904a84879c7b2f296c3b58",
              "IPY_MODEL_e87fc163b68a4e58ad5284cf9df9c2b7"
            ],
            "layout": "IPY_MODEL_e5d8386d12e34c9e882a1f324bac7627"
          }
        },
        "18d737a176904a84879c7b2f296c3b58": {
          "model_module": "@jupyter-widgets/controls",
          "model_name": "ToggleButtonsModel",
          "model_module_version": "1.5.0",
          "state": {
            "_dom_classes": [],
            "_model_module": "@jupyter-widgets/controls",
            "_model_module_version": "1.5.0",
            "_model_name": "ToggleButtonsModel",
            "_options_labels": [
              "Pipeline Plot",
              "Hyperparameters",
              "AUC",
              "Confusion Matrix",
              "Threshold",
              "Precision Recall",
              "Prediction Error",
              "Class Report",
              "Feature Selection",
              "Learning Curve",
              "Manifold Learning",
              "Calibration Curve",
              "Validation Curve",
              "Dimensions",
              "Feature Importance",
              "Feature Importance (All)",
              "Decision Boundary",
              "Lift Chart",
              "Gain Chart",
              "Decision Tree",
              "KS Statistic Plot"
            ],
            "_view_count": null,
            "_view_module": "@jupyter-widgets/controls",
            "_view_module_version": "1.5.0",
            "_view_name": "ToggleButtonsView",
            "button_style": "",
            "description": "Plot Type:",
            "description_tooltip": null,
            "disabled": false,
            "icons": [
              ""
            ],
            "index": 3,
            "layout": "IPY_MODEL_d76a9e6d97f8453e9803dd671bafa3a0",
            "style": "IPY_MODEL_ea59bbe5397641ef9b2da74c025d8c7e",
            "tooltips": []
          }
        },
        "e87fc163b68a4e58ad5284cf9df9c2b7": {
          "model_module": "@jupyter-widgets/output",
          "model_name": "OutputModel",
          "model_module_version": "1.0.0",
          "state": {
            "_dom_classes": [],
            "_model_module": "@jupyter-widgets/output",
            "_model_module_version": "1.0.0",
            "_model_name": "OutputModel",
            "_view_count": null,
            "_view_module": "@jupyter-widgets/output",
            "_view_module_version": "1.0.0",
            "_view_name": "OutputView",
            "layout": "IPY_MODEL_7d7c521c892c4b33b4ae8ca216a9ccb7",
            "msg_id": "",
            "outputs": [
              {
                "output_type": "display_data",
                "data": {
                  "text/plain": "<Figure size 800x550 with 1 Axes>",
                  "image/png": "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\n"
                },
                "metadata": {}
              }
            ]
          }
        },
        "e5d8386d12e34c9e882a1f324bac7627": {
          "model_module": "@jupyter-widgets/base",
          "model_name": "LayoutModel",
          "model_module_version": "1.2.0",
          "state": {
            "_model_module": "@jupyter-widgets/base",
            "_model_module_version": "1.2.0",
            "_model_name": "LayoutModel",
            "_view_count": null,
            "_view_module": "@jupyter-widgets/base",
            "_view_module_version": "1.2.0",
            "_view_name": "LayoutView",
            "align_content": null,
            "align_items": null,
            "align_self": null,
            "border": null,
            "bottom": null,
            "display": null,
            "flex": null,
            "flex_flow": null,
            "grid_area": null,
            "grid_auto_columns": null,
            "grid_auto_flow": null,
            "grid_auto_rows": null,
            "grid_column": null,
            "grid_gap": null,
            "grid_row": null,
            "grid_template_areas": null,
            "grid_template_columns": null,
            "grid_template_rows": null,
            "height": null,
            "justify_content": null,
            "justify_items": null,
            "left": null,
            "margin": null,
            "max_height": null,
            "max_width": null,
            "min_height": null,
            "min_width": null,
            "object_fit": null,
            "object_position": null,
            "order": null,
            "overflow": null,
            "overflow_x": null,
            "overflow_y": null,
            "padding": null,
            "right": null,
            "top": null,
            "visibility": null,
            "width": null
          }
        },
        "d76a9e6d97f8453e9803dd671bafa3a0": {
          "model_module": "@jupyter-widgets/base",
          "model_name": "LayoutModel",
          "model_module_version": "1.2.0",
          "state": {
            "_model_module": "@jupyter-widgets/base",
            "_model_module_version": "1.2.0",
            "_model_name": "LayoutModel",
            "_view_count": null,
            "_view_module": "@jupyter-widgets/base",
            "_view_module_version": "1.2.0",
            "_view_name": "LayoutView",
            "align_content": null,
            "align_items": null,
            "align_self": null,
            "border": null,
            "bottom": null,
            "display": null,
            "flex": null,
            "flex_flow": null,
            "grid_area": null,
            "grid_auto_columns": null,
            "grid_auto_flow": null,
            "grid_auto_rows": null,
            "grid_column": null,
            "grid_gap": null,
            "grid_row": null,
            "grid_template_areas": null,
            "grid_template_columns": null,
            "grid_template_rows": null,
            "height": null,
            "justify_content": null,
            "justify_items": null,
            "left": null,
            "margin": null,
            "max_height": null,
            "max_width": null,
            "min_height": null,
            "min_width": null,
            "object_fit": null,
            "object_position": null,
            "order": null,
            "overflow": null,
            "overflow_x": null,
            "overflow_y": null,
            "padding": null,
            "right": null,
            "top": null,
            "visibility": null,
            "width": null
          }
        },
        "ea59bbe5397641ef9b2da74c025d8c7e": {
          "model_module": "@jupyter-widgets/controls",
          "model_name": "ToggleButtonsStyleModel",
          "model_module_version": "1.5.0",
          "state": {
            "_model_module": "@jupyter-widgets/controls",
            "_model_module_version": "1.5.0",
            "_model_name": "ToggleButtonsStyleModel",
            "_view_count": null,
            "_view_module": "@jupyter-widgets/base",
            "_view_module_version": "1.2.0",
            "_view_name": "StyleView",
            "button_width": "",
            "description_width": "",
            "font_weight": ""
          }
        },
        "7d7c521c892c4b33b4ae8ca216a9ccb7": {
          "model_module": "@jupyter-widgets/base",
          "model_name": "LayoutModel",
          "model_module_version": "1.2.0",
          "state": {
            "_model_module": "@jupyter-widgets/base",
            "_model_module_version": "1.2.0",
            "_model_name": "LayoutModel",
            "_view_count": null,
            "_view_module": "@jupyter-widgets/base",
            "_view_module_version": "1.2.0",
            "_view_name": "LayoutView",
            "align_content": null,
            "align_items": null,
            "align_self": null,
            "border": null,
            "bottom": null,
            "display": null,
            "flex": null,
            "flex_flow": null,
            "grid_area": null,
            "grid_auto_columns": null,
            "grid_auto_flow": null,
            "grid_auto_rows": null,
            "grid_column": null,
            "grid_gap": null,
            "grid_row": null,
            "grid_template_areas": null,
            "grid_template_columns": null,
            "grid_template_rows": null,
            "height": null,
            "justify_content": null,
            "justify_items": null,
            "left": null,
            "margin": null,
            "max_height": null,
            "max_width": null,
            "min_height": null,
            "min_width": null,
            "object_fit": null,
            "object_position": null,
            "order": null,
            "overflow": null,
            "overflow_x": null,
            "overflow_y": null,
            "padding": null,
            "right": null,
            "top": null,
            "visibility": null,
            "width": null
          }
        },
        "5c1921f149424e5794bf4d7bea6c1a81": {
          "model_module": "@jupyter-widgets/controls",
          "model_name": "VBoxModel",
          "model_module_version": "1.5.0",
          "state": {
            "_dom_classes": [
              "widget-interact"
            ],
            "_model_module": "@jupyter-widgets/controls",
            "_model_module_version": "1.5.0",
            "_model_name": "VBoxModel",
            "_view_count": null,
            "_view_module": "@jupyter-widgets/controls",
            "_view_module_version": "1.5.0",
            "_view_name": "VBoxView",
            "box_style": "",
            "children": [
              "IPY_MODEL_1c56c5e2327940739c0b06df4988e4b2",
              "IPY_MODEL_a6adb6491bda41ebaee060a235337950"
            ],
            "layout": "IPY_MODEL_f1f1a778aac940778d8c72d4ad07e607"
          }
        },
        "1c56c5e2327940739c0b06df4988e4b2": {
          "model_module": "@jupyter-widgets/controls",
          "model_name": "ToggleButtonsModel",
          "model_module_version": "1.5.0",
          "state": {
            "_dom_classes": [],
            "_model_module": "@jupyter-widgets/controls",
            "_model_module_version": "1.5.0",
            "_model_name": "ToggleButtonsModel",
            "_options_labels": [
              "Pipeline Plot",
              "Hyperparameters",
              "AUC",
              "Confusion Matrix",
              "Threshold",
              "Precision Recall",
              "Prediction Error",
              "Class Report",
              "Feature Selection",
              "Learning Curve",
              "Manifold Learning",
              "Calibration Curve",
              "Validation Curve",
              "Dimensions",
              "Feature Importance",
              "Feature Importance (All)",
              "Decision Boundary",
              "Lift Chart",
              "Gain Chart",
              "Decision Tree",
              "KS Statistic Plot"
            ],
            "_view_count": null,
            "_view_module": "@jupyter-widgets/controls",
            "_view_module_version": "1.5.0",
            "_view_name": "ToggleButtonsView",
            "button_style": "",
            "description": "Plot Type:",
            "description_tooltip": null,
            "disabled": false,
            "icons": [
              ""
            ],
            "index": 3,
            "layout": "IPY_MODEL_a9810bdce27747c39d71c0af4c3d8858",
            "style": "IPY_MODEL_33f9aeac281d4a65aea2a52b0871b316",
            "tooltips": []
          }
        },
        "a6adb6491bda41ebaee060a235337950": {
          "model_module": "@jupyter-widgets/output",
          "model_name": "OutputModel",
          "model_module_version": "1.0.0",
          "state": {
            "_dom_classes": [],
            "_model_module": "@jupyter-widgets/output",
            "_model_module_version": "1.0.0",
            "_model_name": "OutputModel",
            "_view_count": null,
            "_view_module": "@jupyter-widgets/output",
            "_view_module_version": "1.0.0",
            "_view_name": "OutputView",
            "layout": "IPY_MODEL_9b54c1c89b9c4992b80cd28fd6245d0a",
            "msg_id": "",
            "outputs": [
              {
                "output_type": "display_data",
                "data": {
                  "text/plain": "<Figure size 800x550 with 1 Axes>",
                  "image/png": "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\n"
                },
                "metadata": {}
              }
            ]
          }
        },
        "f1f1a778aac940778d8c72d4ad07e607": {
          "model_module": "@jupyter-widgets/base",
          "model_name": "LayoutModel",
          "model_module_version": "1.2.0",
          "state": {
            "_model_module": "@jupyter-widgets/base",
            "_model_module_version": "1.2.0",
            "_model_name": "LayoutModel",
            "_view_count": null,
            "_view_module": "@jupyter-widgets/base",
            "_view_module_version": "1.2.0",
            "_view_name": "LayoutView",
            "align_content": null,
            "align_items": null,
            "align_self": null,
            "border": null,
            "bottom": null,
            "display": null,
            "flex": null,
            "flex_flow": null,
            "grid_area": null,
            "grid_auto_columns": null,
            "grid_auto_flow": null,
            "grid_auto_rows": null,
            "grid_column": null,
            "grid_gap": null,
            "grid_row": null,
            "grid_template_areas": null,
            "grid_template_columns": null,
            "grid_template_rows": null,
            "height": null,
            "justify_content": null,
            "justify_items": null,
            "left": null,
            "margin": null,
            "max_height": null,
            "max_width": null,
            "min_height": null,
            "min_width": null,
            "object_fit": null,
            "object_position": null,
            "order": null,
            "overflow": null,
            "overflow_x": null,
            "overflow_y": null,
            "padding": null,
            "right": null,
            "top": null,
            "visibility": null,
            "width": null
          }
        },
        "a9810bdce27747c39d71c0af4c3d8858": {
          "model_module": "@jupyter-widgets/base",
          "model_name": "LayoutModel",
          "model_module_version": "1.2.0",
          "state": {
            "_model_module": "@jupyter-widgets/base",
            "_model_module_version": "1.2.0",
            "_model_name": "LayoutModel",
            "_view_count": null,
            "_view_module": "@jupyter-widgets/base",
            "_view_module_version": "1.2.0",
            "_view_name": "LayoutView",
            "align_content": null,
            "align_items": null,
            "align_self": null,
            "border": null,
            "bottom": null,
            "display": null,
            "flex": null,
            "flex_flow": null,
            "grid_area": null,
            "grid_auto_columns": null,
            "grid_auto_flow": null,
            "grid_auto_rows": null,
            "grid_column": null,
            "grid_gap": null,
            "grid_row": null,
            "grid_template_areas": null,
            "grid_template_columns": null,
            "grid_template_rows": null,
            "height": null,
            "justify_content": null,
            "justify_items": null,
            "left": null,
            "margin": null,
            "max_height": null,
            "max_width": null,
            "min_height": null,
            "min_width": null,
            "object_fit": null,
            "object_position": null,
            "order": null,
            "overflow": null,
            "overflow_x": null,
            "overflow_y": null,
            "padding": null,
            "right": null,
            "top": null,
            "visibility": null,
            "width": null
          }
        },
        "33f9aeac281d4a65aea2a52b0871b316": {
          "model_module": "@jupyter-widgets/controls",
          "model_name": "ToggleButtonsStyleModel",
          "model_module_version": "1.5.0",
          "state": {
            "_model_module": "@jupyter-widgets/controls",
            "_model_module_version": "1.5.0",
            "_model_name": "ToggleButtonsStyleModel",
            "_view_count": null,
            "_view_module": "@jupyter-widgets/base",
            "_view_module_version": "1.2.0",
            "_view_name": "StyleView",
            "button_width": "",
            "description_width": "",
            "font_weight": ""
          }
        },
        "9b54c1c89b9c4992b80cd28fd6245d0a": {
          "model_module": "@jupyter-widgets/base",
          "model_name": "LayoutModel",
          "model_module_version": "1.2.0",
          "state": {
            "_model_module": "@jupyter-widgets/base",
            "_model_module_version": "1.2.0",
            "_model_name": "LayoutModel",
            "_view_count": null,
            "_view_module": "@jupyter-widgets/base",
            "_view_module_version": "1.2.0",
            "_view_name": "LayoutView",
            "align_content": null,
            "align_items": null,
            "align_self": null,
            "border": null,
            "bottom": null,
            "display": null,
            "flex": null,
            "flex_flow": null,
            "grid_area": null,
            "grid_auto_columns": null,
            "grid_auto_flow": null,
            "grid_auto_rows": null,
            "grid_column": null,
            "grid_gap": null,
            "grid_row": null,
            "grid_template_areas": null,
            "grid_template_columns": null,
            "grid_template_rows": null,
            "height": null,
            "justify_content": null,
            "justify_items": null,
            "left": null,
            "margin": null,
            "max_height": null,
            "max_width": null,
            "min_height": null,
            "min_width": null,
            "object_fit": null,
            "object_position": null,
            "order": null,
            "overflow": null,
            "overflow_x": null,
            "overflow_y": null,
            "padding": null,
            "right": null,
            "top": null,
            "visibility": null,
            "width": null
          }
        }
      }
    }
  },
  "cells": [
    {
      "cell_type": "markdown",
      "metadata": {
        "id": "view-in-github"
      },
      "source": [
        "<a href=\"https://colab.research.google.com/github/kdemertzis/EKPA/blob/main/DGA_Classification.ipynb\" target=\"_parent\"><img src=\"https://colab.research.google.com/assets/colab-badge.svg\" alt=\"Open In Colab\"/></a>"
      ]
    },
    {
      "cell_type": "code",
      "metadata": {
        "id": "2rvGqQdY9C6s",
        "outputId": "b8a3ffc9-ff4b-49e2-e213-5fc7e954c133",
        "colab": {
          "base_uri": "https://localhost:8080/"
        },
        "collapsed": true
      },
      "source": [
        "#εγκατάσταση πακέτου pycaret (https://pycaret.org/)\n",
        "!pip install pycaret\n",
        "#***ΠΡΟΣΟΧΗ*** μετά την εγκατάσταση χρειάζεται restart το session\n",
        "#***θα σας ζητηθεί επανεκκίνηση με σχετικό κόκκινο μήνυμα μετά την ολοκλήρωση της εγκατάστασης\n",
        "#***Πατήστε το κουμπί RESTART SESSION στο σχετικό μήνυμα"
      ],
      "execution_count": null,
      "outputs": [
        {
          "output_type": "stream",
          "name": "stdout",
          "text": [
            "Collecting pycaret\n",
            "  Downloading pycaret-3.3.2-py3-none-any.whl (486 kB)\n",
            "\u001b[2K     \u001b[90m━━━━━━━━━━━━━━━━━━━━━━━━━━━━━━━━━━━━━━━━\u001b[0m \u001b[32m486.1/486.1 kB\u001b[0m \u001b[31m5.9 MB/s\u001b[0m eta \u001b[36m0:00:00\u001b[0m\n",
            "\u001b[?25hRequirement already satisfied: ipython>=5.5.0 in /usr/local/lib/python3.10/dist-packages (from pycaret) (7.34.0)\n",
            "Requirement already satisfied: ipywidgets>=7.6.5 in /usr/local/lib/python3.10/dist-packages (from pycaret) (7.7.1)\n",
            "Requirement already satisfied: tqdm>=4.62.0 in /usr/local/lib/python3.10/dist-packages (from pycaret) (4.66.4)\n",
            "Requirement already satisfied: numpy<1.27,>=1.21 in /usr/local/lib/python3.10/dist-packages (from pycaret) (1.25.2)\n",
            "Requirement already satisfied: pandas<2.2.0 in /usr/local/lib/python3.10/dist-packages (from pycaret) (2.0.3)\n",
            "Requirement already satisfied: jinja2>=3 in /usr/local/lib/python3.10/dist-packages (from pycaret) (3.1.4)\n",
            "Requirement already satisfied: scipy<=1.11.4,>=1.6.1 in /usr/local/lib/python3.10/dist-packages (from pycaret) (1.11.4)\n",
            "Collecting joblib<1.4,>=1.2.0 (from pycaret)\n",
            "  Downloading joblib-1.3.2-py3-none-any.whl (302 kB)\n",
            "\u001b[2K     \u001b[90m━━━━━━━━━━━━━━━━━━━━━━━━━━━━━━━━━━━━━━━━\u001b[0m \u001b[32m302.2/302.2 kB\u001b[0m \u001b[31m21.0 MB/s\u001b[0m eta \u001b[36m0:00:00\u001b[0m\n",
            "\u001b[?25hCollecting scikit-learn>1.4.0 (from pycaret)\n",
            "  Downloading scikit_learn-1.5.1-cp310-cp310-manylinux_2_17_x86_64.manylinux2014_x86_64.whl (13.4 MB)\n",
            "\u001b[2K     \u001b[90m━━━━━━━━━━━━━━━━━━━━━━━━━━━━━━━━━━━━━━━━\u001b[0m \u001b[32m13.4/13.4 MB\u001b[0m \u001b[31m19.7 MB/s\u001b[0m eta \u001b[36m0:00:00\u001b[0m\n",
            "\u001b[?25hCollecting pyod>=1.1.3 (from pycaret)\n",
            "  Downloading pyod-2.0.1.tar.gz (163 kB)\n",
            "\u001b[2K     \u001b[90m━━━━━━━━━━━━━━━━━━━━━━━━━━━━━━━━━━━━━━━━\u001b[0m \u001b[32m163.8/163.8 kB\u001b[0m \u001b[31m11.0 MB/s\u001b[0m eta \u001b[36m0:00:00\u001b[0m\n",
            "\u001b[?25h  Preparing metadata (setup.py) ... \u001b[?25l\u001b[?25hdone\n",
            "Collecting imbalanced-learn>=0.12.0 (from pycaret)\n",
            "  Downloading imbalanced_learn-0.12.3-py3-none-any.whl (258 kB)\n",
            "\u001b[2K     \u001b[90m━━━━━━━━━━━━━━━━━━━━━━━━━━━━━━━━━━━━━━━━\u001b[0m \u001b[32m258.3/258.3 kB\u001b[0m \u001b[31m10.1 MB/s\u001b[0m eta \u001b[36m0:00:00\u001b[0m\n",
            "\u001b[?25hCollecting category-encoders>=2.4.0 (from pycaret)\n",
            "  Downloading category_encoders-2.6.3-py2.py3-none-any.whl (81 kB)\n",
            "\u001b[2K     \u001b[90m━━━━━━━━━━━━━━━━━━━━━━━━━━━━━━━━━━━━━━━━\u001b[0m \u001b[32m81.9/81.9 kB\u001b[0m \u001b[31m7.8 MB/s\u001b[0m eta \u001b[36m0:00:00\u001b[0m\n",
            "\u001b[?25hRequirement already satisfied: lightgbm>=3.0.0 in /usr/local/lib/python3.10/dist-packages (from pycaret) (4.1.0)\n",
            "Requirement already satisfied: numba>=0.55.0 in /usr/local/lib/python3.10/dist-packages (from pycaret) (0.58.1)\n",
            "Requirement already satisfied: requests>=2.27.1 in /usr/local/lib/python3.10/dist-packages (from pycaret) (2.31.0)\n",
            "Requirement already satisfied: psutil>=5.9.0 in /usr/local/lib/python3.10/dist-packages (from pycaret) (5.9.5)\n",
            "Requirement already satisfied: markupsafe>=2.0.1 in /usr/local/lib/python3.10/dist-packages (from pycaret) (2.1.5)\n",
            "Requirement already satisfied: importlib-metadata>=4.12.0 in /usr/local/lib/python3.10/dist-packages (from pycaret) (8.0.0)\n",
            "Requirement already satisfied: nbformat>=4.2.0 in /usr/local/lib/python3.10/dist-packages (from pycaret) (5.10.4)\n",
            "Requirement already satisfied: cloudpickle in /usr/local/lib/python3.10/dist-packages (from pycaret) (2.2.1)\n",
            "Collecting deprecation>=2.1.0 (from pycaret)\n",
            "  Downloading deprecation-2.1.0-py2.py3-none-any.whl (11 kB)\n",
            "Collecting xxhash (from pycaret)\n",
            "  Downloading xxhash-3.4.1-cp310-cp310-manylinux_2_17_x86_64.manylinux2014_x86_64.whl (194 kB)\n",
            "\u001b[2K     \u001b[90m━━━━━━━━━━━━━━━━━━━━━━━━━━━━━━━━━━━━━━━━\u001b[0m \u001b[32m194.1/194.1 kB\u001b[0m \u001b[31m6.1 MB/s\u001b[0m eta \u001b[36m0:00:00\u001b[0m\n",
            "\u001b[?25hRequirement already satisfied: matplotlib<3.8.0 in /usr/local/lib/python3.10/dist-packages (from pycaret) (3.7.1)\n",
            "Collecting scikit-plot>=0.3.7 (from pycaret)\n",
            "  Downloading scikit_plot-0.3.7-py3-none-any.whl (33 kB)\n",
            "Requirement already satisfied: yellowbrick>=1.4 in /usr/local/lib/python3.10/dist-packages (from pycaret) (1.5)\n",
            "Requirement already satisfied: plotly>=5.14.0 in /usr/local/lib/python3.10/dist-packages (from pycaret) (5.15.0)\n",
            "Collecting kaleido>=0.2.1 (from pycaret)\n",
            "  Downloading kaleido-0.2.1-py2.py3-none-manylinux1_x86_64.whl (79.9 MB)\n",
            "\u001b[2K     \u001b[90m━━━━━━━━━━━━━━━━━━━━━━━━━━━━━━━━━━━━━━━━\u001b[0m \u001b[32m79.9/79.9 MB\u001b[0m \u001b[31m8.0 MB/s\u001b[0m eta \u001b[36m0:00:00\u001b[0m\n",
            "\u001b[?25hCollecting schemdraw==0.15 (from pycaret)\n",
            "  Downloading schemdraw-0.15-py3-none-any.whl (106 kB)\n",
            "\u001b[2K     \u001b[90m━━━━━━━━━━━━━━━━━━━━━━━━━━━━━━━━━━━━━━━━\u001b[0m \u001b[32m106.8/106.8 kB\u001b[0m \u001b[31m13.0 MB/s\u001b[0m eta \u001b[36m0:00:00\u001b[0m\n",
            "\u001b[?25hCollecting plotly-resampler>=0.8.3.1 (from pycaret)\n",
            "  Downloading plotly_resampler-0.10.0-py3-none-any.whl (80 kB)\n",
            "\u001b[2K     \u001b[90m━━━━━━━━━━━━━━━━━━━━━━━━━━━━━━━━━━━━━━━━\u001b[0m \u001b[32m80.7/80.7 kB\u001b[0m \u001b[31m5.8 MB/s\u001b[0m eta \u001b[36m0:00:00\u001b[0m\n",
            "\u001b[?25hRequirement already satisfied: statsmodels>=0.12.1 in /usr/local/lib/python3.10/dist-packages (from pycaret) (0.14.2)\n",
            "Collecting sktime==0.26.0 (from pycaret)\n",
            "  Downloading sktime-0.26.0-py3-none-any.whl (21.8 MB)\n",
            "\u001b[2K     \u001b[90m━━━━━━━━━━━━━━━━━━━━━━━━━━━━━━━━━━━━━━━━\u001b[0m \u001b[32m21.8/21.8 MB\u001b[0m \u001b[31m35.7 MB/s\u001b[0m eta \u001b[36m0:00:00\u001b[0m\n",
            "\u001b[?25hCollecting tbats>=1.1.3 (from pycaret)\n",
            "  Downloading tbats-1.1.3-py3-none-any.whl (44 kB)\n",
            "\u001b[2K     \u001b[90m━━━━━━━━━━━━━━━━━━━━━━━━━━━━━━━━━━━━━━━━\u001b[0m \u001b[32m44.0/44.0 kB\u001b[0m \u001b[31m2.6 MB/s\u001b[0m eta \u001b[36m0:00:00\u001b[0m\n",
            "\u001b[?25hCollecting pmdarima>=2.0.4 (from pycaret)\n",
            "  Downloading pmdarima-2.0.4-cp310-cp310-manylinux_2_17_x86_64.manylinux2014_x86_64.manylinux_2_28_x86_64.whl (2.1 MB)\n",
            "\u001b[2K     \u001b[90m━━━━━━━━━━━━━━━━━━━━━━━━━━━━━━━━━━━━━━━━\u001b[0m \u001b[32m2.1/2.1 MB\u001b[0m \u001b[31m38.1 MB/s\u001b[0m eta \u001b[36m0:00:00\u001b[0m\n",
            "\u001b[?25hCollecting wurlitzer (from pycaret)\n",
            "  Downloading wurlitzer-3.1.1-py3-none-any.whl (8.6 kB)\n",
            "Requirement already satisfied: packaging in /usr/local/lib/python3.10/dist-packages (from sktime==0.26.0->pycaret) (24.1)\n",
            "Collecting scikit-base<0.8.0 (from sktime==0.26.0->pycaret)\n",
            "  Downloading scikit_base-0.7.8-py3-none-any.whl (130 kB)\n",
            "\u001b[2K     \u001b[90m━━━━━━━━━━━━━━━━━━━━━━━━━━━━━━━━━━━━━━━━\u001b[0m \u001b[32m130.1/130.1 kB\u001b[0m \u001b[31m11.3 MB/s\u001b[0m eta \u001b[36m0:00:00\u001b[0m\n",
            "\u001b[?25hCollecting scikit-learn>1.4.0 (from pycaret)\n",
            "  Downloading scikit_learn-1.4.2-cp310-cp310-manylinux_2_17_x86_64.manylinux2014_x86_64.whl (12.1 MB)\n",
            "\u001b[2K     \u001b[90m━━━━━━━━━━━━━━━━━━━━━━━━━━━━━━━━━━━━━━━━\u001b[0m \u001b[32m12.1/12.1 MB\u001b[0m \u001b[31m46.5 MB/s\u001b[0m eta \u001b[36m0:00:00\u001b[0m\n",
            "\u001b[?25hRequirement already satisfied: patsy>=0.5.1 in /usr/local/lib/python3.10/dist-packages (from category-encoders>=2.4.0->pycaret) (0.5.6)\n",
            "Requirement already satisfied: threadpoolctl>=2.0.0 in /usr/local/lib/python3.10/dist-packages (from imbalanced-learn>=0.12.0->pycaret) (3.5.0)\n",
            "Requirement already satisfied: zipp>=0.5 in /usr/local/lib/python3.10/dist-packages (from importlib-metadata>=4.12.0->pycaret) (3.19.2)\n",
            "Requirement already satisfied: setuptools>=18.5 in /usr/local/lib/python3.10/dist-packages (from ipython>=5.5.0->pycaret) (67.7.2)\n",
            "Collecting jedi>=0.16 (from ipython>=5.5.0->pycaret)\n",
            "  Downloading jedi-0.19.1-py2.py3-none-any.whl (1.6 MB)\n",
            "\u001b[2K     \u001b[90m━━━━━━━━━━━━━━━━━━━━━━━━━━━━━━━━━━━━━━━━\u001b[0m \u001b[32m1.6/1.6 MB\u001b[0m \u001b[31m41.1 MB/s\u001b[0m eta \u001b[36m0:00:00\u001b[0m\n",
            "\u001b[?25hRequirement already satisfied: decorator in /usr/local/lib/python3.10/dist-packages (from ipython>=5.5.0->pycaret) (4.4.2)\n",
            "Requirement already satisfied: pickleshare in /usr/local/lib/python3.10/dist-packages (from ipython>=5.5.0->pycaret) (0.7.5)\n",
            "Requirement already satisfied: traitlets>=4.2 in /usr/local/lib/python3.10/dist-packages (from ipython>=5.5.0->pycaret) (5.7.1)\n",
            "Requirement already satisfied: prompt-toolkit!=3.0.0,!=3.0.1,<3.1.0,>=2.0.0 in /usr/local/lib/python3.10/dist-packages (from ipython>=5.5.0->pycaret) (3.0.47)\n",
            "Requirement already satisfied: pygments in /usr/local/lib/python3.10/dist-packages (from ipython>=5.5.0->pycaret) (2.16.1)\n",
            "Requirement already satisfied: backcall in /usr/local/lib/python3.10/dist-packages (from ipython>=5.5.0->pycaret) (0.2.0)\n",
            "Requirement already satisfied: matplotlib-inline in /usr/local/lib/python3.10/dist-packages (from ipython>=5.5.0->pycaret) (0.1.7)\n",
            "Requirement already satisfied: pexpect>4.3 in /usr/local/lib/python3.10/dist-packages (from ipython>=5.5.0->pycaret) (4.9.0)\n",
            "Requirement already satisfied: ipykernel>=4.5.1 in /usr/local/lib/python3.10/dist-packages (from ipywidgets>=7.6.5->pycaret) (5.5.6)\n",
            "Requirement already satisfied: ipython-genutils~=0.2.0 in /usr/local/lib/python3.10/dist-packages (from ipywidgets>=7.6.5->pycaret) (0.2.0)\n",
            "Requirement already satisfied: widgetsnbextension~=3.6.0 in /usr/local/lib/python3.10/dist-packages (from ipywidgets>=7.6.5->pycaret) (3.6.6)\n",
            "Requirement already satisfied: jupyterlab-widgets>=1.0.0 in /usr/local/lib/python3.10/dist-packages (from ipywidgets>=7.6.5->pycaret) (3.0.11)\n",
            "Requirement already satisfied: contourpy>=1.0.1 in /usr/local/lib/python3.10/dist-packages (from matplotlib<3.8.0->pycaret) (1.2.1)\n",
            "Requirement already satisfied: cycler>=0.10 in /usr/local/lib/python3.10/dist-packages (from matplotlib<3.8.0->pycaret) (0.12.1)\n",
            "Requirement already satisfied: fonttools>=4.22.0 in /usr/local/lib/python3.10/dist-packages (from matplotlib<3.8.0->pycaret) (4.53.0)\n",
            "Requirement already satisfied: kiwisolver>=1.0.1 in /usr/local/lib/python3.10/dist-packages (from matplotlib<3.8.0->pycaret) (1.4.5)\n",
            "Requirement already satisfied: pillow>=6.2.0 in /usr/local/lib/python3.10/dist-packages (from matplotlib<3.8.0->pycaret) (9.4.0)\n",
            "Requirement already satisfied: pyparsing>=2.3.1 in /usr/local/lib/python3.10/dist-packages (from matplotlib<3.8.0->pycaret) (3.1.2)\n",
            "Requirement already satisfied: python-dateutil>=2.7 in /usr/local/lib/python3.10/dist-packages (from matplotlib<3.8.0->pycaret) (2.8.2)\n",
            "Requirement already satisfied: fastjsonschema>=2.15 in /usr/local/lib/python3.10/dist-packages (from nbformat>=4.2.0->pycaret) (2.20.0)\n",
            "Requirement already satisfied: jsonschema>=2.6 in /usr/local/lib/python3.10/dist-packages (from nbformat>=4.2.0->pycaret) (4.19.2)\n",
            "Requirement already satisfied: jupyter-core!=5.0.*,>=4.12 in /usr/local/lib/python3.10/dist-packages (from nbformat>=4.2.0->pycaret) (5.7.2)\n",
            "Requirement already satisfied: llvmlite<0.42,>=0.41.0dev0 in /usr/local/lib/python3.10/dist-packages (from numba>=0.55.0->pycaret) (0.41.1)\n",
            "Requirement already satisfied: pytz>=2020.1 in /usr/local/lib/python3.10/dist-packages (from pandas<2.2.0->pycaret) (2023.4)\n",
            "Requirement already satisfied: tzdata>=2022.1 in /usr/local/lib/python3.10/dist-packages (from pandas<2.2.0->pycaret) (2024.1)\n",
            "Requirement already satisfied: tenacity>=6.2.0 in /usr/local/lib/python3.10/dist-packages (from plotly>=5.14.0->pycaret) (8.4.2)\n",
            "Collecting dash>=2.9.0 (from plotly-resampler>=0.8.3.1->pycaret)\n",
            "  Downloading dash-2.17.1-py3-none-any.whl (7.5 MB)\n",
            "\u001b[2K     \u001b[90m━━━━━━━━━━━━━━━━━━━━━━━━━━━━━━━━━━━━━━━━\u001b[0m \u001b[32m7.5/7.5 MB\u001b[0m \u001b[31m37.3 MB/s\u001b[0m eta \u001b[36m0:00:00\u001b[0m\n",
            "\u001b[?25hCollecting orjson<4.0.0,>=3.8.0 (from plotly-resampler>=0.8.3.1->pycaret)\n",
            "  Downloading orjson-3.10.6-cp310-cp310-manylinux_2_17_x86_64.manylinux2014_x86_64.whl (141 kB)\n",
            "\u001b[2K     \u001b[90m━━━━━━━━━━━━━━━━━━━━━━━━━━━━━━━━━━━━━━━━\u001b[0m \u001b[32m141.1/141.1 kB\u001b[0m \u001b[31m839.7 kB/s\u001b[0m eta \u001b[36m0:00:00\u001b[0m\n",
            "\u001b[?25hCollecting tsdownsample>=0.1.3 (from plotly-resampler>=0.8.3.1->pycaret)\n",
            "  Downloading tsdownsample-0.1.3-cp310-cp310-manylinux_2_17_x86_64.manylinux2014_x86_64.whl (2.1 MB)\n",
            "\u001b[2K     \u001b[90m━━━━━━━━━━━━━━━━━━━━━━━━━━━━━━━━━━━━━━━━\u001b[0m \u001b[32m2.1/2.1 MB\u001b[0m \u001b[31m55.8 MB/s\u001b[0m eta \u001b[36m0:00:00\u001b[0m\n",
            "\u001b[?25hRequirement already satisfied: Cython!=0.29.18,!=0.29.31,>=0.29 in /usr/local/lib/python3.10/dist-packages (from pmdarima>=2.0.4->pycaret) (3.0.10)\n",
            "Requirement already satisfied: urllib3 in /usr/local/lib/python3.10/dist-packages (from pmdarima>=2.0.4->pycaret) (2.0.7)\n",
            "Requirement already satisfied: charset-normalizer<4,>=2 in /usr/local/lib/python3.10/dist-packages (from requests>=2.27.1->pycaret) (3.3.2)\n",
            "Requirement already satisfied: idna<4,>=2.5 in /usr/local/lib/python3.10/dist-packages (from requests>=2.27.1->pycaret) (3.7)\n",
            "Requirement already satisfied: certifi>=2017.4.17 in /usr/local/lib/python3.10/dist-packages (from requests>=2.27.1->pycaret) (2024.6.2)\n",
            "Requirement already satisfied: Flask<3.1,>=1.0.4 in /usr/local/lib/python3.10/dist-packages (from dash>=2.9.0->plotly-resampler>=0.8.3.1->pycaret) (2.2.5)\n",
            "Requirement already satisfied: Werkzeug<3.1 in /usr/local/lib/python3.10/dist-packages (from dash>=2.9.0->plotly-resampler>=0.8.3.1->pycaret) (3.0.3)\n",
            "Collecting dash-html-components==2.0.0 (from dash>=2.9.0->plotly-resampler>=0.8.3.1->pycaret)\n",
            "  Downloading dash_html_components-2.0.0-py3-none-any.whl (4.1 kB)\n",
            "Collecting dash-core-components==2.0.0 (from dash>=2.9.0->plotly-resampler>=0.8.3.1->pycaret)\n",
            "  Downloading dash_core_components-2.0.0-py3-none-any.whl (3.8 kB)\n",
            "Collecting dash-table==5.0.0 (from dash>=2.9.0->plotly-resampler>=0.8.3.1->pycaret)\n",
            "  Downloading dash_table-5.0.0-py3-none-any.whl (3.9 kB)\n",
            "Requirement already satisfied: typing-extensions>=4.1.1 in /usr/local/lib/python3.10/dist-packages (from dash>=2.9.0->plotly-resampler>=0.8.3.1->pycaret) (4.12.2)\n",
            "Collecting retrying (from dash>=2.9.0->plotly-resampler>=0.8.3.1->pycaret)\n",
            "  Downloading retrying-1.3.4-py3-none-any.whl (11 kB)\n",
            "Requirement already satisfied: nest-asyncio in /usr/local/lib/python3.10/dist-packages (from dash>=2.9.0->plotly-resampler>=0.8.3.1->pycaret) (1.6.0)\n",
            "Requirement already satisfied: jupyter-client in /usr/local/lib/python3.10/dist-packages (from ipykernel>=4.5.1->ipywidgets>=7.6.5->pycaret) (6.1.12)\n",
            "Requirement already satisfied: tornado>=4.2 in /usr/local/lib/python3.10/dist-packages (from ipykernel>=4.5.1->ipywidgets>=7.6.5->pycaret) (6.3.3)\n",
            "Requirement already satisfied: parso<0.9.0,>=0.8.3 in /usr/local/lib/python3.10/dist-packages (from jedi>=0.16->ipython>=5.5.0->pycaret) (0.8.4)\n",
            "Requirement already satisfied: attrs>=22.2.0 in /usr/local/lib/python3.10/dist-packages (from jsonschema>=2.6->nbformat>=4.2.0->pycaret) (23.2.0)\n",
            "Requirement already satisfied: jsonschema-specifications>=2023.03.6 in /usr/local/lib/python3.10/dist-packages (from jsonschema>=2.6->nbformat>=4.2.0->pycaret) (2023.12.1)\n",
            "Requirement already satisfied: referencing>=0.28.4 in /usr/local/lib/python3.10/dist-packages (from jsonschema>=2.6->nbformat>=4.2.0->pycaret) (0.35.1)\n",
            "Requirement already satisfied: rpds-py>=0.7.1 in /usr/local/lib/python3.10/dist-packages (from jsonschema>=2.6->nbformat>=4.2.0->pycaret) (0.18.1)\n",
            "Requirement already satisfied: platformdirs>=2.5 in /usr/local/lib/python3.10/dist-packages (from jupyter-core!=5.0.*,>=4.12->nbformat>=4.2.0->pycaret) (4.2.2)\n",
            "Requirement already satisfied: six in /usr/local/lib/python3.10/dist-packages (from patsy>=0.5.1->category-encoders>=2.4.0->pycaret) (1.16.0)\n",
            "Requirement already satisfied: ptyprocess>=0.5 in /usr/local/lib/python3.10/dist-packages (from pexpect>4.3->ipython>=5.5.0->pycaret) (0.7.0)\n",
            "Requirement already satisfied: wcwidth in /usr/local/lib/python3.10/dist-packages (from prompt-toolkit!=3.0.0,!=3.0.1,<3.1.0,>=2.0.0->ipython>=5.5.0->pycaret) (0.2.13)\n",
            "Requirement already satisfied: notebook>=4.4.1 in /usr/local/lib/python3.10/dist-packages (from widgetsnbextension~=3.6.0->ipywidgets>=7.6.5->pycaret) (6.5.5)\n",
            "Requirement already satisfied: itsdangerous>=2.0 in /usr/local/lib/python3.10/dist-packages (from Flask<3.1,>=1.0.4->dash>=2.9.0->plotly-resampler>=0.8.3.1->pycaret) (2.2.0)\n",
            "Requirement already satisfied: click>=8.0 in /usr/local/lib/python3.10/dist-packages (from Flask<3.1,>=1.0.4->dash>=2.9.0->plotly-resampler>=0.8.3.1->pycaret) (8.1.7)\n",
            "Requirement already satisfied: pyzmq<25,>=17 in /usr/local/lib/python3.10/dist-packages (from notebook>=4.4.1->widgetsnbextension~=3.6.0->ipywidgets>=7.6.5->pycaret) (24.0.1)\n",
            "Requirement already satisfied: argon2-cffi in /usr/local/lib/python3.10/dist-packages (from notebook>=4.4.1->widgetsnbextension~=3.6.0->ipywidgets>=7.6.5->pycaret) (23.1.0)\n",
            "Requirement already satisfied: nbconvert>=5 in /usr/local/lib/python3.10/dist-packages (from notebook>=4.4.1->widgetsnbextension~=3.6.0->ipywidgets>=7.6.5->pycaret) (6.5.4)\n",
            "Requirement already satisfied: Send2Trash>=1.8.0 in /usr/local/lib/python3.10/dist-packages (from notebook>=4.4.1->widgetsnbextension~=3.6.0->ipywidgets>=7.6.5->pycaret) (1.8.3)\n",
            "Requirement already satisfied: terminado>=0.8.3 in /usr/local/lib/python3.10/dist-packages (from notebook>=4.4.1->widgetsnbextension~=3.6.0->ipywidgets>=7.6.5->pycaret) (0.18.1)\n",
            "Requirement already satisfied: prometheus-client in /usr/local/lib/python3.10/dist-packages (from notebook>=4.4.1->widgetsnbextension~=3.6.0->ipywidgets>=7.6.5->pycaret) (0.20.0)\n",
            "Requirement already satisfied: nbclassic>=0.4.7 in /usr/local/lib/python3.10/dist-packages (from notebook>=4.4.1->widgetsnbextension~=3.6.0->ipywidgets>=7.6.5->pycaret) (1.1.0)\n",
            "Requirement already satisfied: notebook-shim>=0.2.3 in /usr/local/lib/python3.10/dist-packages (from nbclassic>=0.4.7->notebook>=4.4.1->widgetsnbextension~=3.6.0->ipywidgets>=7.6.5->pycaret) (0.2.4)\n",
            "Requirement already satisfied: lxml in /usr/local/lib/python3.10/dist-packages (from nbconvert>=5->notebook>=4.4.1->widgetsnbextension~=3.6.0->ipywidgets>=7.6.5->pycaret) (4.9.4)\n",
            "Requirement already satisfied: beautifulsoup4 in /usr/local/lib/python3.10/dist-packages (from nbconvert>=5->notebook>=4.4.1->widgetsnbextension~=3.6.0->ipywidgets>=7.6.5->pycaret) (4.12.3)\n",
            "Requirement already satisfied: bleach in /usr/local/lib/python3.10/dist-packages (from nbconvert>=5->notebook>=4.4.1->widgetsnbextension~=3.6.0->ipywidgets>=7.6.5->pycaret) (6.1.0)\n",
            "Requirement already satisfied: defusedxml in /usr/local/lib/python3.10/dist-packages (from nbconvert>=5->notebook>=4.4.1->widgetsnbextension~=3.6.0->ipywidgets>=7.6.5->pycaret) (0.7.1)\n",
            "Requirement already satisfied: entrypoints>=0.2.2 in /usr/local/lib/python3.10/dist-packages (from nbconvert>=5->notebook>=4.4.1->widgetsnbextension~=3.6.0->ipywidgets>=7.6.5->pycaret) (0.4)\n",
            "Requirement already satisfied: jupyterlab-pygments in /usr/local/lib/python3.10/dist-packages (from nbconvert>=5->notebook>=4.4.1->widgetsnbextension~=3.6.0->ipywidgets>=7.6.5->pycaret) (0.3.0)\n",
            "Requirement already satisfied: mistune<2,>=0.8.1 in /usr/local/lib/python3.10/dist-packages (from nbconvert>=5->notebook>=4.4.1->widgetsnbextension~=3.6.0->ipywidgets>=7.6.5->pycaret) (0.8.4)\n",
            "Requirement already satisfied: nbclient>=0.5.0 in /usr/local/lib/python3.10/dist-packages (from nbconvert>=5->notebook>=4.4.1->widgetsnbextension~=3.6.0->ipywidgets>=7.6.5->pycaret) (0.10.0)\n",
            "Requirement already satisfied: pandocfilters>=1.4.1 in /usr/local/lib/python3.10/dist-packages (from nbconvert>=5->notebook>=4.4.1->widgetsnbextension~=3.6.0->ipywidgets>=7.6.5->pycaret) (1.5.1)\n",
            "Requirement already satisfied: tinycss2 in /usr/local/lib/python3.10/dist-packages (from nbconvert>=5->notebook>=4.4.1->widgetsnbextension~=3.6.0->ipywidgets>=7.6.5->pycaret) (1.3.0)\n",
            "Requirement already satisfied: argon2-cffi-bindings in /usr/local/lib/python3.10/dist-packages (from argon2-cffi->notebook>=4.4.1->widgetsnbextension~=3.6.0->ipywidgets>=7.6.5->pycaret) (21.2.0)\n",
            "Requirement already satisfied: jupyter-server<3,>=1.8 in /usr/local/lib/python3.10/dist-packages (from notebook-shim>=0.2.3->nbclassic>=0.4.7->notebook>=4.4.1->widgetsnbextension~=3.6.0->ipywidgets>=7.6.5->pycaret) (1.24.0)\n",
            "Requirement already satisfied: cffi>=1.0.1 in /usr/local/lib/python3.10/dist-packages (from argon2-cffi-bindings->argon2-cffi->notebook>=4.4.1->widgetsnbextension~=3.6.0->ipywidgets>=7.6.5->pycaret) (1.16.0)\n",
            "Requirement already satisfied: soupsieve>1.2 in /usr/local/lib/python3.10/dist-packages (from beautifulsoup4->nbconvert>=5->notebook>=4.4.1->widgetsnbextension~=3.6.0->ipywidgets>=7.6.5->pycaret) (2.5)\n",
            "Requirement already satisfied: webencodings in /usr/local/lib/python3.10/dist-packages (from bleach->nbconvert>=5->notebook>=4.4.1->widgetsnbextension~=3.6.0->ipywidgets>=7.6.5->pycaret) (0.5.1)\n",
            "Requirement already satisfied: pycparser in /usr/local/lib/python3.10/dist-packages (from cffi>=1.0.1->argon2-cffi-bindings->argon2-cffi->notebook>=4.4.1->widgetsnbextension~=3.6.0->ipywidgets>=7.6.5->pycaret) (2.22)\n",
            "Requirement already satisfied: anyio<4,>=3.1.0 in /usr/local/lib/python3.10/dist-packages (from jupyter-server<3,>=1.8->notebook-shim>=0.2.3->nbclassic>=0.4.7->notebook>=4.4.1->widgetsnbextension~=3.6.0->ipywidgets>=7.6.5->pycaret) (3.7.1)\n",
            "Requirement already satisfied: websocket-client in /usr/local/lib/python3.10/dist-packages (from jupyter-server<3,>=1.8->notebook-shim>=0.2.3->nbclassic>=0.4.7->notebook>=4.4.1->widgetsnbextension~=3.6.0->ipywidgets>=7.6.5->pycaret) (1.8.0)\n",
            "Requirement already satisfied: sniffio>=1.1 in /usr/local/lib/python3.10/dist-packages (from anyio<4,>=3.1.0->jupyter-server<3,>=1.8->notebook-shim>=0.2.3->nbclassic>=0.4.7->notebook>=4.4.1->widgetsnbextension~=3.6.0->ipywidgets>=7.6.5->pycaret) (1.3.1)\n",
            "Requirement already satisfied: exceptiongroup in /usr/local/lib/python3.10/dist-packages (from anyio<4,>=3.1.0->jupyter-server<3,>=1.8->notebook-shim>=0.2.3->nbclassic>=0.4.7->notebook>=4.4.1->widgetsnbextension~=3.6.0->ipywidgets>=7.6.5->pycaret) (1.2.1)\n",
            "Building wheels for collected packages: pyod\n",
            "  Building wheel for pyod (setup.py) ... \u001b[?25l\u001b[?25hdone\n",
            "  Created wheel for pyod: filename=pyod-2.0.1-py3-none-any.whl size=193267 sha256=577d77be57179fd5cb933bf90d0dd77f2ef8fc0a5f9cf72c401a13de7ca4211e\n",
            "  Stored in directory: /root/.cache/pip/wheels/94/75/88/b853cf33b0053b0a001dca55b74d515048b7656e736364eb57\n",
            "Successfully built pyod\n",
            "Installing collected packages: kaleido, dash-table, dash-html-components, dash-core-components, xxhash, wurlitzer, tsdownsample, scikit-base, schemdraw, retrying, orjson, joblib, jedi, deprecation, scikit-learn, sktime, scikit-plot, pyod, imbalanced-learn, dash, pmdarima, plotly-resampler, category-encoders, tbats, pycaret\n",
            "  Attempting uninstall: joblib\n",
            "    Found existing installation: joblib 1.4.2\n",
            "    Uninstalling joblib-1.4.2:\n",
            "      Successfully uninstalled joblib-1.4.2\n",
            "  Attempting uninstall: scikit-learn\n",
            "    Found existing installation: scikit-learn 1.2.2\n",
            "    Uninstalling scikit-learn-1.2.2:\n",
            "      Successfully uninstalled scikit-learn-1.2.2\n",
            "  Attempting uninstall: imbalanced-learn\n",
            "    Found existing installation: imbalanced-learn 0.10.1\n",
            "    Uninstalling imbalanced-learn-0.10.1:\n",
            "      Successfully uninstalled imbalanced-learn-0.10.1\n",
            "Successfully installed category-encoders-2.6.3 dash-2.17.1 dash-core-components-2.0.0 dash-html-components-2.0.0 dash-table-5.0.0 deprecation-2.1.0 imbalanced-learn-0.12.3 jedi-0.19.1 joblib-1.3.2 kaleido-0.2.1 orjson-3.10.6 plotly-resampler-0.10.0 pmdarima-2.0.4 pycaret-3.3.2 pyod-2.0.1 retrying-1.3.4 schemdraw-0.15 scikit-base-0.7.8 scikit-learn-1.4.2 scikit-plot-0.3.7 sktime-0.26.0 tbats-1.1.3 tsdownsample-0.1.3 wurlitzer-3.1.1 xxhash-3.4.1\n"
          ]
        }
      ]
    },
    {
      "cell_type": "code",
      "metadata": {
        "id": "7LfnpwSS9nue"
      },
      "source": [
        "#εισαγωγή βιβλιοθηκών - πακέτων\n",
        "import pycaret\n",
        "import pandas as pd\n",
        "import numpy as np\n",
        "import matplotlib.pyplot as plt\n",
        "from pycaret.classification import *"
      ],
      "execution_count": 17,
      "outputs": []
    },
    {
      "cell_type": "code",
      "metadata": {
        "colab": {
          "base_uri": "https://localhost:8080/"
        },
        "id": "ZunbzPVa9a6g",
        "outputId": "33787ef3-d03d-4313-f81e-264504d13f7d"
      },
      "source": [
        "## ΛΗΨΗ ΑΠΑΙΤΟΥΜΕΝΟΥ ΣΥΝΟΛΟΥ ΔΕΔΟΜΕΝΩΝ\n",
        "url = 'https://raw.githubusercontent.com/kdemertzis/EKPA/main/Data/dga_domain.csv'\n",
        "df = pd.read_csv(url)\n",
        "#έλεγχος σχήματος συνόλου δεδομένων\n",
        "print(df.shape)"
      ],
      "execution_count": 18,
      "outputs": [
        {
          "output_type": "stream",
          "name": "stdout",
          "text": [
            "(117588, 6)\n"
          ]
        }
      ]
    },
    {
      "cell_type": "code",
      "source": [
        "#ανακάτεμα των δεδομένων\n",
        "df = df.sample(frac = 1)\n",
        "print(df.head())"
      ],
      "metadata": {
        "id": "DCynJDtpYx8z",
        "outputId": "6b6459b6-917a-4c7b-c9d7-eb121ad4f093",
        "colab": {
          "base_uri": "https://localhost:8080/"
        }
      },
      "execution_count": 19,
      "outputs": [
        {
          "output_type": "stream",
          "name": "stdout",
          "text": [
            "       length   entropy   alexa_grams   word_grams       diff  class\n",
            "168         7  2.521641     11.525469    11.947790  -0.422320  legit\n",
            "98495      16  3.452820     56.662788    84.105527 -27.442738    dga\n",
            "67040       7  2.521641     12.659065    17.774938  -5.115874  legit\n",
            "62231      16  3.625000     41.095021    46.063655  -4.968633  legit\n",
            "95490      25  3.383465    105.227433   147.042795 -41.815362    dga\n"
          ]
        }
      ]
    },
    {
      "cell_type": "code",
      "metadata": {
        "id": "J6y3Zhq2-EZ8"
      },
      "source": [
        "#εγκατάσταση του συνόλου δεδομένων\n",
        "grid = setup(data=df, target=df.columns[-1], html=False, verbose=False)"
      ],
      "execution_count": 20,
      "outputs": []
    },
    {
      "cell_type": "code",
      "source": [
        "# εκπαίδευση και σύγκριση των διαθέσιμων μοντέλων ΜΜ\n",
        "## ΕΠΙΛΕΓΟΝΤΑΙ ΤΑ ΤΡΙΑ ΚΑΛΥΤΕΡΑ\n",
        "best = compare_models(cross_validation=False, n_select = 3)\n",
        "%load_ext tensorboard"
      ],
      "metadata": {
        "colab": {
          "base_uri": "https://localhost:8080/"
        },
        "id": "QDSQb-u5YFuM",
        "outputId": "bcd2fd88-7d2d-4358-adc8-1e49c13a937f"
      },
      "execution_count": 21,
      "outputs": [
        {
          "output_type": "stream",
          "name": "stderr",
          "text": [
            "                                                           "
          ]
        },
        {
          "output_type": "stream",
          "name": "stdout",
          "text": [
            "                                    Model  Accuracy     AUC  Recall   Prec.  \\\n",
            "lightgbm  Light Gradient Boosting Machine    0.8896  0.9101  0.8896  0.8907   \n",
            "gbc          Gradient Boosting Classifier    0.8887  0.9078  0.8887  0.8897   \n",
            "xgboost         Extreme Gradient Boosting    0.8887  0.9086  0.8887  0.8884   \n",
            "rf               Random Forest Classifier    0.8833  0.8942  0.8833  0.8798   \n",
            "lr                    Logistic Regression    0.8764  0.8764  0.8764  0.8747   \n",
            "knn                K Neighbors Classifier    0.8754  0.8695  0.8754  0.8707   \n",
            "et                 Extra Trees Classifier    0.8731  0.8870  0.8731  0.8678   \n",
            "svm                   SVM - Linear Kernel    0.8700  0.0000  0.8700  0.8655   \n",
            "lda          Linear Discriminant Analysis    0.8498  0.8596  0.8498  0.8538   \n",
            "ridge                    Ridge Classifier    0.8321  0.0000  0.8321  0.8528   \n",
            "dt               Decision Tree Classifier    0.8250  0.7857  0.8250  0.8269   \n",
            "ada                  Ada Boost Classifier    0.7671  0.5758  0.7671  0.6442   \n",
            "nb                            Naive Bayes    0.7632  0.7792  0.7632  0.7365   \n",
            "qda       Quadratic Discriminant Analysis    0.7594  0.8814  0.7594  0.8179   \n",
            "dummy                    Dummy Classifier    0.7342  0.0000  0.7342  0.5391   \n",
            "\n",
            "              F1   Kappa     MCC  TT (Sec)  \n",
            "lightgbm  0.8808  0.7003  0.7180      1.43  \n",
            "gbc       0.8795  0.6977  0.7159     62.05  \n",
            "xgboost   0.8806  0.7000  0.7152      2.26  \n",
            "rf        0.8765  0.6907  0.7005     22.64  \n",
            "lr        0.8678  0.6662  0.6808     17.94  \n",
            "knn       0.8687  0.6712  0.6796      0.13  \n",
            "et        0.8677  0.6697  0.6750      9.86  \n",
            "svm       0.8638  0.6585  0.6658      5.88  \n",
            "lda       0.8374  0.5776  0.6035      0.13  \n",
            "ridge     0.7988  0.4789  0.5432      0.07  \n",
            "dt        0.8259  0.5746  0.5747      1.01  \n",
            "ada       0.6738  0.2207  0.3346      4.07  \n",
            "nb        0.7420  0.3626  0.3722      0.06  \n",
            "qda       0.7732  0.5033  0.5277      0.07  \n",
            "dummy     0.6217  0.0000  0.0000      0.06  \n",
            "The tensorboard extension is already loaded. To reload it, use:\n",
            "  %reload_ext tensorboard\n"
          ]
        },
        {
          "output_type": "stream",
          "name": "stderr",
          "text": [
            "\r"
          ]
        }
      ]
    },
    {
      "cell_type": "code",
      "source": [
        "print(*best, sep = '\\n\\n')"
      ],
      "metadata": {
        "colab": {
          "base_uri": "https://localhost:8080/"
        },
        "id": "i0LCBp6QZC64",
        "outputId": "877aceca-ab4c-44e6-d4d6-3dd147e5d0e2"
      },
      "execution_count": 22,
      "outputs": [
        {
          "output_type": "stream",
          "name": "stdout",
          "text": [
            "LGBMClassifier(boosting_type='gbdt', class_weight=None, colsample_bytree=1.0,\n",
            "               importance_type='split', learning_rate=0.1, max_depth=-1,\n",
            "               min_child_samples=20, min_child_weight=0.001, min_split_gain=0.0,\n",
            "               n_estimators=100, n_jobs=-1, num_leaves=31, objective=None,\n",
            "               random_state=5373, reg_alpha=0.0, reg_lambda=0.0, subsample=1.0,\n",
            "               subsample_for_bin=200000, subsample_freq=0)\n",
            "\n",
            "GradientBoostingClassifier(ccp_alpha=0.0, criterion='friedman_mse', init=None,\n",
            "                           learning_rate=0.1, loss='log_loss', max_depth=3,\n",
            "                           max_features=None, max_leaf_nodes=None,\n",
            "                           min_impurity_decrease=0.0, min_samples_leaf=1,\n",
            "                           min_samples_split=2, min_weight_fraction_leaf=0.0,\n",
            "                           n_estimators=100, n_iter_no_change=None,\n",
            "                           random_state=5373, subsample=1.0, tol=0.0001,\n",
            "                           validation_fraction=0.1, verbose=0,\n",
            "                           warm_start=False)\n",
            "\n",
            "XGBClassifier(base_score=None, booster='gbtree', callbacks=None,\n",
            "              colsample_bylevel=None, colsample_bynode=None,\n",
            "              colsample_bytree=None, device='cpu', early_stopping_rounds=None,\n",
            "              enable_categorical=False, eval_metric=None, feature_types=None,\n",
            "              gamma=None, grow_policy=None, importance_type=None,\n",
            "              interaction_constraints=None, learning_rate=None, max_bin=None,\n",
            "              max_cat_threshold=None, max_cat_to_onehot=None,\n",
            "              max_delta_step=None, max_depth=None, max_leaves=None,\n",
            "              min_child_weight=None, missing=nan, monotone_constraints=None,\n",
            "              multi_strategy=None, n_estimators=None, n_jobs=-1,\n",
            "              num_parallel_tree=None, objective='multi:softprob', ...)\n"
          ]
        }
      ]
    },
    {
      "cell_type": "code",
      "source": [
        "evaluate_model(best[0])"
      ],
      "metadata": {
        "colab": {
          "base_uri": "https://localhost:8080/",
          "height": 665,
          "referenced_widgets": [
            "b64454adc2c74177b284c2f681b8d5d7",
            "8b0351d52e5d433baccf902acade161c",
            "6f9bf1f650934503aa81433b0702a3cd",
            "5ecef2c878a74da585dd00def4df732d",
            "2f4c1bf54e6c49e6bc77c600c313c109",
            "bc0f1bbb078c4565a51d7d5f3c5becf3",
            "491341538eed4540acd10330ca236975"
          ]
        },
        "id": "b5xXOif1ZP0U",
        "outputId": "ca00e98d-61c6-44af-f283-e68a6a40832d"
      },
      "execution_count": 23,
      "outputs": [
        {
          "output_type": "display_data",
          "data": {
            "text/plain": [
              "interactive(children=(ToggleButtons(description='Plot Type:', icons=('',), options=(('Pipeline Plot', 'pipelin…"
            ],
            "application/vnd.jupyter.widget-view+json": {
              "version_major": 2,
              "version_minor": 0,
              "model_id": "b64454adc2c74177b284c2f681b8d5d7"
            }
          },
          "metadata": {
            "application/vnd.jupyter.widget-view+json": {
              "colab": {
                "custom_widget_manager": {
                  "url": "https://ssl.gstatic.com/colaboratory-static/widgets/colab-cdn-widget-manager/2b70e893a8ba7c0f/manager.min.js"
                }
              }
            }
          }
        }
      ]
    },
    {
      "cell_type": "code",
      "source": [
        "evaluate_model(best[1])"
      ],
      "metadata": {
        "colab": {
          "base_uri": "https://localhost:8080/",
          "height": 665,
          "referenced_widgets": [
            "81c56e709adc458f94728d57db521db9",
            "18d737a176904a84879c7b2f296c3b58",
            "e87fc163b68a4e58ad5284cf9df9c2b7",
            "e5d8386d12e34c9e882a1f324bac7627",
            "d76a9e6d97f8453e9803dd671bafa3a0",
            "ea59bbe5397641ef9b2da74c025d8c7e",
            "7d7c521c892c4b33b4ae8ca216a9ccb7"
          ]
        },
        "id": "o59xhIUEZXaH",
        "outputId": "401c4c7f-6d97-433c-ec45-2ec9e3fff435"
      },
      "execution_count": 26,
      "outputs": [
        {
          "output_type": "display_data",
          "data": {
            "text/plain": [
              "interactive(children=(ToggleButtons(description='Plot Type:', icons=('',), options=(('Pipeline Plot', 'pipelin…"
            ],
            "application/vnd.jupyter.widget-view+json": {
              "version_major": 2,
              "version_minor": 0,
              "model_id": "81c56e709adc458f94728d57db521db9"
            }
          },
          "metadata": {
            "application/vnd.jupyter.widget-view+json": {
              "colab": {
                "custom_widget_manager": {
                  "url": "https://ssl.gstatic.com/colaboratory-static/widgets/colab-cdn-widget-manager/2b70e893a8ba7c0f/manager.min.js"
                }
              }
            }
          }
        }
      ]
    },
    {
      "cell_type": "code",
      "source": [
        "evaluate_model(best[2])"
      ],
      "metadata": {
        "colab": {
          "base_uri": "https://localhost:8080/",
          "height": 665,
          "referenced_widgets": [
            "5c1921f149424e5794bf4d7bea6c1a81",
            "1c56c5e2327940739c0b06df4988e4b2",
            "a6adb6491bda41ebaee060a235337950",
            "f1f1a778aac940778d8c72d4ad07e607",
            "a9810bdce27747c39d71c0af4c3d8858",
            "33f9aeac281d4a65aea2a52b0871b316",
            "9b54c1c89b9c4992b80cd28fd6245d0a"
          ]
        },
        "id": "81zwQ-oFZZtJ",
        "outputId": "163e13e2-e991-46e6-fa5d-6122a5984c70"
      },
      "execution_count": 27,
      "outputs": [
        {
          "output_type": "display_data",
          "data": {
            "text/plain": [
              "interactive(children=(ToggleButtons(description='Plot Type:', icons=('',), options=(('Pipeline Plot', 'pipelin…"
            ],
            "application/vnd.jupyter.widget-view+json": {
              "version_major": 2,
              "version_minor": 0,
              "model_id": "5c1921f149424e5794bf4d7bea6c1a81"
            }
          },
          "metadata": {
            "application/vnd.jupyter.widget-view+json": {
              "colab": {
                "custom_widget_manager": {
                  "url": "https://ssl.gstatic.com/colaboratory-static/widgets/colab-cdn-widget-manager/2b70e893a8ba7c0f/manager.min.js"
                }
              }
            }
          }
        }
      ]
    }
  ]
}